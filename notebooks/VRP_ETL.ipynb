{
 "cells": [
  {
   "cell_type": "markdown",
   "id": "0614d9bf-7a14-4cfd-a64e-af6c9e63960e",
   "metadata": {},
   "source": [
    "# VPR Data Landing"
   ]
  },
  {
   "cell_type": "markdown",
   "id": "abaa2808-fa30-4835-9fd4-8a73cf70f7b0",
   "metadata": {},
   "source": [
    "# 1. Import dependencies & declare constants"
   ]
  },
  {
   "cell_type": "code",
   "execution_count": 1,
   "id": "9ec441f7-840f-46bc-ad24-3b524a91af84",
   "metadata": {},
   "outputs": [],
   "source": [
    "import sys\n",
    "import os\n",
    "import yaml\n",
    "from dotenv import load_dotenv, find_dotenv\n",
    "\n",
    "# Add the src directory to the sys.path\n",
    "sys.path.append(os.path.abspath(os.path.join('..', 'src')))"
   ]
  },
  {
   "cell_type": "code",
   "execution_count": 2,
   "id": "e7a82708-df1f-45fa-bde0-1d3e9dd6de84",
   "metadata": {},
   "outputs": [],
   "source": [
    "from spark_session import create_spark_session\n",
    "from schemas import addresses_schema, products_schema, clients_schema\n",
    "from functions import *"
   ]
  },
  {
   "cell_type": "code",
   "execution_count": 3,
   "id": "6f8e3483-a378-4ff9-9483-f1ece09aa4f1",
   "metadata": {},
   "outputs": [],
   "source": [
    "# Load the .env file from the parent directory\n",
    "env_path = find_dotenv(filename=\".env\", raise_error_if_not_found=True)\n",
    "load_dotenv(dotenv_path=env_path)\n",
    "\n",
    "# Load AWS credentials\n",
    "aws_access_key_id = os.getenv(\"AWS_ACCESS_KEY_ID\")\n",
    "aws_secret_access_key = os.getenv(\"AWS_SECRET_ACCESS_KEY_ID\")"
   ]
  },
  {
   "cell_type": "code",
   "execution_count": 4,
   "id": "3176609d-51a9-4012-8773-e733d8b51a68",
   "metadata": {},
   "outputs": [],
   "source": [
    "# Load the YAML configuration file\n",
    "with open('../config/config.yml', 'r') as file:\n",
    "    config = yaml.safe_load(file)"
   ]
  },
  {
   "cell_type": "code",
   "execution_count": 5,
   "id": "8ed4acd1-9469-4295-a4fc-f1e60f09da89",
   "metadata": {},
   "outputs": [],
   "source": [
    "BUCKET_NAME = config[\"paths\"][\"BUCKET_NAME\"]\n",
    "RAW = config[\"paths\"][\"RAW\"]\n",
    "ORDERS = config[\"paths\"][\"ORDERS\"]\n",
    "\n",
    "BRONZE = config[\"paths\"][\"BRONZE\"]\n",
    "SILVER = config[\"paths\"][\"SILVER\"]\n",
    "GOLD = config[\"paths\"][\"GOLD\"]\n",
    "\n",
    "ADDRESS_DATA = config[\"raw_data\"][\"ADDRESS_DATA\"]\n",
    "CLIENTS_DATA = config[\"raw_data\"][\"CLIENTS_DATA\"]\n",
    "PRODUCTS_DATA = config[\"raw_data\"][\"PRODUCTS_DATA\"]\n",
    "\n",
    "ADDRESS_TABLE = config[\"table_names\"][\"ADDRESS_TABLE\"]\n",
    "CLIENTS_TABLE = config[\"table_names\"][\"CLIENTS_TABLE\"]\n",
    "CLIENTS_ADDRESS_TABLE = config[\"table_names\"][\"CLIENTS_ADDRESS_TABLE\"]\n",
    "PRODUCTS_TABLE = config[\"table_names\"][\"PRODUCTS_TABLE\"]\n",
    "PACKAGE_TABLE = config[\"table_names\"][\"PACKAGE_TABLE\"]\n",
    "\n",
    "RAW_ADDRESS_PATH = os.path.join(BUCKET_NAME, RAW, ADDRESS_DATA)\n",
    "RAW_CIENTS_PATH = os.path.join(BUCKET_NAME, RAW, CLIENTS_DATA)\n",
    "RAW_PRODUCTS_PATH = os.path.join(BUCKET_NAME, RAW, PRODUCTS_DATA)\n",
    "\n",
    "BRONZE_ADDRESS_PATH = os.path.join(BUCKET_NAME, ORDERS, BRONZE, ADDRESS_TABLE)\n",
    "BRONZE_CLIENTS_PATH = os.path.join(BUCKET_NAME, ORDERS, BRONZE, CLIENTS_TABLE)\n",
    "BRONZE_PRODUCTS_PATH = os.path.join(BUCKET_NAME, ORDERS, BRONZE, PRODUCTS_TABLE)\n",
    "\n",
    "\n",
    "SILVER_ADDRESS_PATH = os.path.join(BUCKET_NAME, ORDERS, SILVER, ADDRESS_TABLE)\n",
    "SILVER_CLIENTS_PATH = os.path.join(BUCKET_NAME, ORDERS, SILVER, CLIENTS_TABLE)\n",
    "SILVER_PRODUCTS_PATH = os.path.join(BUCKET_NAME, ORDERS, SILVER, PRODUCTS_TABLE)\n",
    "\n",
    "GOLD_CLIENTS_ADDRESS_PATH = os.path.join(BUCKET_NAME, ORDERS, GOLD, CLIENTS_ADDRESS_TABLE)\n",
    "GOLD_PRODUCTS_PATH = os.path.join(BUCKET_NAME, ORDERS, GOLD, PRODUCTS_TABLE)\n",
    "GOLD_PACKAGE_PATH = os.path.join(BUCKET_NAME, ORDERS, GOLD, PACKAGE_TABLE)"
   ]
  },
  {
   "cell_type": "markdown",
   "id": "687009f1-ea46-42f6-a79b-d6d19e0ffae5",
   "metadata": {},
   "source": [
    "# 2. Initialize Spark Session"
   ]
  },
  {
   "cell_type": "code",
   "execution_count": 6,
   "id": "8730b665-4a98-4d62-9982-c89ea6760711",
   "metadata": {},
   "outputs": [
    {
     "name": "stderr",
     "output_type": "stream",
     "text": [
      "24/08/14 19:39:10 WARN Utils: Your hostname, Miguels-MacBook-Air.local resolves to a loopback address: 127.0.0.1; using 192.168.0.13 instead (on interface en0)\n",
      "24/08/14 19:39:10 WARN Utils: Set SPARK_LOCAL_IP if you need to bind to another address\n"
     ]
    },
    {
     "name": "stdout",
     "output_type": "stream",
     "text": [
      ":: loading settings :: url = jar:file:/Users/miguelgranica/Documents/MBIT%20-%20DE/vpr-platform/.venv/lib/python3.10/site-packages/pyspark/jars/ivy-2.5.1.jar!/org/apache/ivy/core/settings/ivysettings.xml\n"
     ]
    },
    {
     "name": "stderr",
     "output_type": "stream",
     "text": [
      "Ivy Default Cache set to: /Users/miguelgranica/.ivy2/cache\n",
      "The jars for the packages stored in: /Users/miguelgranica/.ivy2/jars\n",
      "io.delta#delta-spark_2.12 added as a dependency\n",
      "org.apache.hadoop#hadoop-aws added as a dependency\n",
      ":: resolving dependencies :: org.apache.spark#spark-submit-parent-6abb1c74-4046-4517-8e92-b7fe9b68ab11;1.0\n",
      "\tconfs: [default]\n",
      "\tfound io.delta#delta-spark_2.12;3.2.0 in central\n",
      "\tfound io.delta#delta-storage;3.2.0 in central\n",
      "\tfound org.antlr#antlr4-runtime;4.9.3 in central\n",
      "\tfound org.apache.hadoop#hadoop-aws;3.3.1 in central\n",
      "\tfound com.amazonaws#aws-java-sdk-bundle;1.11.901 in central\n",
      "\tfound org.wildfly.openssl#wildfly-openssl;1.0.7.Final in central\n",
      ":: resolution report :: resolve 144ms :: artifacts dl 9ms\n",
      "\t:: modules in use:\n",
      "\tcom.amazonaws#aws-java-sdk-bundle;1.11.901 from central in [default]\n",
      "\tio.delta#delta-spark_2.12;3.2.0 from central in [default]\n",
      "\tio.delta#delta-storage;3.2.0 from central in [default]\n",
      "\torg.antlr#antlr4-runtime;4.9.3 from central in [default]\n",
      "\torg.apache.hadoop#hadoop-aws;3.3.1 from central in [default]\n",
      "\torg.wildfly.openssl#wildfly-openssl;1.0.7.Final from central in [default]\n",
      "\t---------------------------------------------------------------------\n",
      "\t|                  |            modules            ||   artifacts   |\n",
      "\t|       conf       | number| search|dwnlded|evicted|| number|dwnlded|\n",
      "\t---------------------------------------------------------------------\n",
      "\t|      default     |   6   |   0   |   0   |   0   ||   6   |   0   |\n",
      "\t---------------------------------------------------------------------\n",
      ":: retrieving :: org.apache.spark#spark-submit-parent-6abb1c74-4046-4517-8e92-b7fe9b68ab11\n",
      "\tconfs: [default]\n",
      "\t0 artifacts copied, 6 already retrieved (0kB/4ms)\n",
      "24/08/14 19:39:25 WARN NativeCodeLoader: Unable to load native-hadoop library for your platform... using builtin-java classes where applicable\n",
      "Setting default log level to \"WARN\".\n",
      "To adjust logging level use sc.setLogLevel(newLevel). For SparkR, use setLogLevel(newLevel).\n"
     ]
    }
   ],
   "source": [
    "spark = create_spark_session(aws_access_key_id, aws_secret_access_key)"
   ]
  },
  {
   "cell_type": "markdown",
   "id": "4e483a57-e8f4-438b-a32c-da8b47a48af0",
   "metadata": {},
   "source": [
    "# 3. Medallion Architecure"
   ]
  },
  {
   "cell_type": "markdown",
   "id": "b489c29c-3ca1-4e14-bdf9-d8de6188d350",
   "metadata": {},
   "source": [
    "## 3.1 Bronze Layer"
   ]
  },
  {
   "cell_type": "code",
   "execution_count": 7,
   "id": "649dc958-4e83-466e-aaa6-4b80263a10ab",
   "metadata": {},
   "outputs": [
    {
     "name": "stderr",
     "output_type": "stream",
     "text": [
      "24/08/14 19:39:31 WARN MetricsConfig: Cannot locate configuration: tried hadoop-metrics2-s3a-file-system.properties,hadoop-metrics2.properties\n"
     ]
    }
   ],
   "source": [
    "df_address_raw = read_json_to_df(spark, RAW_ADDRESS_PATH, addresses_schema)\n",
    "df_clients_raw = read_json_to_df(spark, RAW_CIENTS_PATH, clients_schema)\n",
    "df_products_raw = read_json_to_df(spark, RAW_PRODUCTS_PATH, products_schema)"
   ]
  },
  {
   "cell_type": "code",
   "execution_count": 8,
   "id": "542bc3cd-278d-4d82-8061-867bf4a88d00",
   "metadata": {},
   "outputs": [
    {
     "name": "stderr",
     "output_type": "stream",
     "text": [
      "                                                                                \r"
     ]
    }
   ],
   "source": [
    "write_df_to_metastore(df_address_raw, BRONZE_ADDRESS_PATH, \"bronze_address_table\")\n",
    "write_df_to_metastore(df_clients_raw, BRONZE_CLIENTS_PATH, \"bronze_clients_table\")\n",
    "write_df_to_metastore(df_products_raw, BRONZE_PRODUCTS_PATH, \"bronze_products_table\")"
   ]
  },
  {
   "cell_type": "markdown",
   "id": "a99cef1a-5752-404c-aaa0-58ef23366ada",
   "metadata": {},
   "source": [
    "## 3.2 Silver Layer"
   ]
  },
  {
   "cell_type": "code",
   "execution_count": 9,
   "id": "ad101a55-93e3-4360-945c-d2eb11901413",
   "metadata": {},
   "outputs": [],
   "source": [
    "df_address_bronze = spark.table(\"bronze_address_table\")\n",
    "df_clients_bronze = spark.table(\"bronze_clients_table\")\n",
    "df_products_bronze = spark.table(\"bronze_products_table\")"
   ]
  },
  {
   "cell_type": "code",
   "execution_count": 11,
   "id": "82c5fce8-a7d6-4155-8c56-3bc8a33a0165",
   "metadata": {},
   "outputs": [
    {
     "name": "stderr",
     "output_type": "stream",
     "text": [
      "                                                                                \r"
     ]
    }
   ],
   "source": [
    "write_df_to_metastore(transform_addresses_bronze_to_silver(df_address_bronze), SILVER_ADDRESS_PATH, \"silver_address_table\")\n",
    "write_df_to_metastore(transform_clients_bronze_to_silver(df_clients_bronze), SILVER_CLIENTS_PATH, \"silver_clients_table\")\n",
    "write_df_to_metastore(transform_products_bronze_to_silver(df_products_bronze), SILVER_PRODUCTS_PATH, \"silver_products_table\")"
   ]
  },
  {
   "cell_type": "markdown",
   "id": "9f6a6c62-24f5-4825-9128-4be64a0c8054",
   "metadata": {},
   "source": [
    "## 3.3 Gold Layer"
   ]
  },
  {
   "cell_type": "code",
   "execution_count": 12,
   "id": "964de4b3-360e-4c24-8dec-20f9b98b984a",
   "metadata": {},
   "outputs": [],
   "source": [
    "df_address_silver = spark.table(\"silver_address_table\")\n",
    "df_clients_silver = spark.table(\"silver_clients_table\")\n",
    "df_products_silver = spark.table(\"silver_products_table\")"
   ]
  },
  {
   "cell_type": "code",
   "execution_count": 13,
   "id": "a0bae6e5-370a-430d-8c6e-ef2d1071c338",
   "metadata": {},
   "outputs": [
    {
     "name": "stderr",
     "output_type": "stream",
     "text": [
      "                                                                                \r"
     ]
    }
   ],
   "source": [
    "write_df_to_metastore(transform_clients_addresses_silver_to_gold(df_clients_silver, df_address_silver), GOLD_CLIENTS_ADDRESS_PATH, \"gold_clients_address_table\")\n",
    "write_df_to_metastore(transform_products_silver_to_gold(df_products_silver), GOLD_PRODUCTS_PATH, \"gold_products_table\", _format=\"delta\")\n",
    "write_df_to_metastore(transform_packages_silver_to_gold(df_products_silver), GOLD_PACKAGE_PATH, \"gold_packages_table\", _format=\"delta\")"
   ]
  },
  {
   "cell_type": "code",
   "execution_count": null,
   "id": "460693ca-f4fe-4f1a-8b9c-496358af0283",
   "metadata": {},
   "outputs": [],
   "source": []
  }
 ],
 "metadata": {
  "kernelspec": {
   "display_name": "Python 3 (ipykernel)",
   "language": "python",
   "name": "python3"
  },
  "language_info": {
   "codemirror_mode": {
    "name": "ipython",
    "version": 3
   },
   "file_extension": ".py",
   "mimetype": "text/x-python",
   "name": "python",
   "nbconvert_exporter": "python",
   "pygments_lexer": "ipython3",
   "version": "3.10.11"
  }
 },
 "nbformat": 4,
 "nbformat_minor": 5
}
