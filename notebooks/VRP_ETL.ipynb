{
 "cells": [
  {
   "cell_type": "markdown",
   "id": "0614d9bf-7a14-4cfd-a64e-af6c9e63960e",
   "metadata": {},
   "source": [
    "# VPR Data Landing"
   ]
  },
  {
   "cell_type": "markdown",
   "id": "abaa2808-fa30-4835-9fd4-8a73cf70f7b0",
   "metadata": {},
   "source": [
    "# 1. Import dependencies & declare constants"
   ]
  },
  {
   "cell_type": "code",
   "execution_count": null,
   "id": "9ec441f7-840f-46bc-ad24-3b524a91af84",
   "metadata": {},
   "outputs": [],
   "source": [
    "import sys\n",
    "import os\n",
    "import yaml\n",
    "from dotenv import load_dotenv, find_dotenv\n",
    "\n",
    "# Add the src directory to the sys.path\n",
    "sys.path.append(os.path.abspath(os.path.join('..', 'src')))"
   ]
  },
  {
   "cell_type": "code",
   "execution_count": null,
   "id": "e7a82708-df1f-45fa-bde0-1d3e9dd6de84",
   "metadata": {},
   "outputs": [],
   "source": [
    "from spark_session import create_spark_session\n",
    "from schemas import *\n",
    "from functions import *"
   ]
  },
  {
   "cell_type": "code",
   "execution_count": null,
   "id": "6f8e3483-a378-4ff9-9483-f1ece09aa4f1",
   "metadata": {},
   "outputs": [],
   "source": [
    "# Load the .env file from the parent directory\n",
    "env_path = find_dotenv(filename=\".env\", raise_error_if_not_found=True)\n",
    "load_dotenv(dotenv_path=env_path)\n",
    "\n",
    "# Load AWS credentials\n",
    "aws_access_key_id = os.getenv(\"AWS_ACCESS_KEY_ID\")\n",
    "aws_secret_access_key = os.getenv(\"AWS_SECRET_ACCESS_KEY\")"
   ]
  },
  {
   "cell_type": "code",
   "execution_count": null,
   "id": "3176609d-51a9-4012-8773-e733d8b51a68",
   "metadata": {},
   "outputs": [],
   "source": [
    "# Load the YAML configuration file\n",
    "with open('../config/config.yml', 'r') as file:\n",
    "    config = yaml.safe_load(file)"
   ]
  },
  {
   "cell_type": "code",
   "execution_count": null,
   "id": "8ed4acd1-9469-4295-a4fc-f1e60f09da89",
   "metadata": {},
   "outputs": [],
   "source": [
    "BUCKET_NAME = config[\"paths\"][\"BUCKET_NAME\"]\n",
    "RAW = config[\"paths\"][\"RAW\"]\n",
    "ORDERS = config[\"paths\"][\"ORDERS\"]\n",
    "\n",
    "BRONZE = config[\"paths\"][\"BRONZE\"]\n",
    "SILVER = config[\"paths\"][\"SILVER\"]\n",
    "GOLD = config[\"paths\"][\"GOLD\"]\n",
    "\n",
    "ADDRESS_DATA = config[\"raw_data\"][\"ADDRESS_DATA\"]\n",
    "CLIENTS_DATA = config[\"raw_data\"][\"CLIENTS_DATA\"]\n",
    "PRODUCTS_DATA = config[\"raw_data\"][\"PRODUCTS_DATA\"]\n",
    "\n",
    "DATABASE_NAME = \"vpr-optimizer-platforom_db\"\n",
    "\n",
    "ADDRESS_TABLE = config[\"table_names\"][\"ADDRESS_TABLE\"]\n",
    "CLIENTS_TABLE = config[\"table_names\"][\"CLIENTS_TABLE\"]\n",
    "CLIENTS_ADDRESS_TABLE = config[\"table_names\"][\"CLIENTS_ADDRESS_TABLE\"]\n",
    "PRODUCTS_TABLE = config[\"table_names\"][\"PRODUCTS_TABLE\"]\n",
    "PACKAGE_TABLE = config[\"table_names\"][\"PACKAGE_TABLE\"]\n",
    "\n",
    "RAW_ADDRESS_PATH = os.path.join(BUCKET_NAME, RAW, ADDRESS_DATA)\n",
    "RAW_CIENTS_PATH = os.path.join(BUCKET_NAME, RAW, CLIENTS_DATA)\n",
    "RAW_PRODUCTS_PATH = os.path.join(BUCKET_NAME, RAW, PRODUCTS_DATA)\n",
    "\n",
    "BRONZE_ADDRESS_PATH = os.path.join(BUCKET_NAME, ORDERS, BRONZE, ADDRESS_TABLE)\n",
    "BRONZE_CLIENTS_PATH = os.path.join(BUCKET_NAME, ORDERS, BRONZE, CLIENTS_TABLE)\n",
    "BRONZE_PRODUCTS_PATH = os.path.join(BUCKET_NAME, ORDERS, BRONZE, PRODUCTS_TABLE)\n",
    "\n",
    "\n",
    "SILVER_ADDRESS_PATH = os.path.join(BUCKET_NAME, ORDERS, SILVER, ADDRESS_TABLE)\n",
    "SILVER_CLIENTS_PATH = os.path.join(BUCKET_NAME, ORDERS, SILVER, CLIENTS_TABLE)\n",
    "SILVER_PRODUCTS_PATH = os.path.join(BUCKET_NAME, ORDERS, SILVER, PRODUCTS_TABLE)\n",
    "\n",
    "GOLD_CLIENTS_ADDRESS_PATH = os.path.join(BUCKET_NAME, ORDERS, GOLD, CLIENTS_ADDRESS_TABLE)\n",
    "GOLD_PRODUCTS_PATH = os.path.join(BUCKET_NAME, ORDERS, GOLD, PRODUCTS_TABLE)\n",
    "GOLD_PACKAGE_PATH = os.path.join(BUCKET_NAME, ORDERS, GOLD, PACKAGE_TABLE)"
   ]
  },
  {
   "cell_type": "markdown",
   "id": "687009f1-ea46-42f6-a79b-d6d19e0ffae5",
   "metadata": {},
   "source": [
    "# 2. Initialize Spark Session"
   ]
  },
  {
   "cell_type": "code",
   "execution_count": null,
   "id": "8730b665-4a98-4d62-9982-c89ea6760711",
   "metadata": {},
   "outputs": [],
   "source": [
    "spark = create_spark_session(aws_access_key_id, aws_secret_access_key)"
   ]
  },
  {
   "cell_type": "markdown",
   "id": "4e483a57-e8f4-438b-a32c-da8b47a48af0",
   "metadata": {},
   "source": [
    "# 3. Medallion Architecure"
   ]
  },
  {
   "cell_type": "markdown",
   "id": "b489c29c-3ca1-4e14-bdf9-d8de6188d350",
   "metadata": {},
   "source": [
    "## 3.1 Bronze Layer"
   ]
  },
  {
   "cell_type": "code",
   "execution_count": null,
   "id": "649dc958-4e83-466e-aaa6-4b80263a10ab",
   "metadata": {},
   "outputs": [],
   "source": [
    "df_address_raw = read_file(spark, RAW_ADDRESS_PATH, \"json\", addresses_schema)\n",
    "df_clients_raw = read_file(spark, RAW_CIENTS_PATH, \"json\", clients_schema)\n",
    "df_products_raw = read_file(spark, RAW_PRODUCTS_PATH, \"json\", products_schema)"
   ]
  },
  {
   "cell_type": "code",
   "execution_count": null,
   "id": "542bc3cd-278d-4d82-8061-867bf4a88d00",
   "metadata": {
    "scrolled": true
   },
   "outputs": [],
   "source": [
    "write_df(df_address_raw, BRONZE_ADDRESS_PATH)\n",
    "write_df(df_clients_raw, BRONZE_CLIENTS_PATH)\n",
    "write_df(df_products_raw, BRONZE_PRODUCTS_PATH)"
   ]
  },
  {
   "cell_type": "markdown",
   "id": "a99cef1a-5752-404c-aaa0-58ef23366ada",
   "metadata": {},
   "source": [
    "## 3.2 Silver Layer"
   ]
  },
  {
   "cell_type": "code",
   "execution_count": null,
   "id": "ad101a55-93e3-4360-945c-d2eb11901413",
   "metadata": {},
   "outputs": [],
   "source": [
    "df_address_bronze = read_file(spark, BRONZE_ADDRESS_PATH, \"parquet\", addresses_schema)\n",
    "df_clients_bronze = read_file(spark, BRONZE_CLIENTS_PATH, \"parquet\", clients_schema)\n",
    "df_products_bronze = read_file(spark, BRONZE_PRODUCTS_PATH, \"parquet\", products_schema)"
   ]
  },
  {
   "cell_type": "code",
   "execution_count": null,
   "id": "82c5fce8-a7d6-4155-8c56-3bc8a33a0165",
   "metadata": {},
   "outputs": [],
   "source": [
    "write_df(transform_addresses_bronze_to_silver(df_address_bronze), SILVER_ADDRESS_PATH)\n",
    "write_df(transform_clients_bronze_to_silver(df_clients_bronze), SILVER_CLIENTS_PATH)\n",
    "write_df(transform_products_bronze_to_silver(df_products_bronze), SILVER_PRODUCTS_PATH)"
   ]
  },
  {
   "cell_type": "markdown",
   "id": "9f6a6c62-24f5-4825-9128-4be64a0c8054",
   "metadata": {},
   "source": [
    "## 3.3 Gold Layer"
   ]
  },
  {
   "cell_type": "code",
   "execution_count": null,
   "id": "5b497a15-00b3-4e7a-9bd1-5e8cb05c5f3d",
   "metadata": {},
   "outputs": [],
   "source": [
    "df_address_silver = read_file(spark, SILVER_ADDRESS_PATH, \"parquet\", silver_address_schema)\n",
    "df_clients_silver = read_file(spark, SILVER_CLIENTS_PATH, \"parquet\", silver_clients_schema)\n",
    "df_products_silver = read_file(spark, SILVER_PRODUCTS_PATH, \"parquet\", silver_products_schema)"
   ]
  },
  {
   "cell_type": "code",
   "execution_count": null,
   "id": "a0bae6e5-370a-430d-8c6e-ef2d1071c338",
   "metadata": {
    "scrolled": true
   },
   "outputs": [],
   "source": [
    "write_df(transform_clients_addresses_silver_to_gold(df_clients_silver, df_address_silver), GOLD_CLIENTS_ADDRESS_PATH)\n",
    "write_df(transform_products_silver_to_gold(df_products_silver), GOLD_PRODUCTS_PATH, file_type=\"delta\")\n",
    "write_df(transform_packages_silver_to_gold(df_products_silver), GOLD_PACKAGE_PATH, file_type=\"delta\")"
   ]
  },
  {
   "cell_type": "code",
   "execution_count": null,
   "id": "95bc243e-a950-412a-bbfc-255a91b3d07c",
   "metadata": {},
   "outputs": [],
   "source": []
  }
 ],
 "metadata": {
  "kernelspec": {
   "display_name": "Python 3 (ipykernel)",
   "language": "python",
   "name": "python3"
  },
  "language_info": {
   "codemirror_mode": {
    "name": "ipython",
    "version": 3
   },
   "file_extension": ".py",
   "mimetype": "text/x-python",
   "name": "python",
   "nbconvert_exporter": "python",
   "pygments_lexer": "ipython3",
   "version": "3.10.11"
  }
 },
 "nbformat": 4,
 "nbformat_minor": 5
}
